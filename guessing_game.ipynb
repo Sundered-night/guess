{
 "cells": [
  {
   "cell_type": "code",
   "execution_count": 2,
   "metadata": {},
   "outputs": [
    {
     "ename": "ValueError",
     "evalue": "invalid literal for int() with base 10: ''",
     "output_type": "error",
     "traceback": [
      "\u001b[1;31m---------------------------------------------------------------------------\u001b[0m",
      "\u001b[1;31mValueError\u001b[0m                                Traceback (most recent call last)",
      "Cell \u001b[1;32mIn[2], line 4\u001b[0m\n\u001b[0;32m      1\u001b[0m \u001b[39mfrom\u001b[39;00m \u001b[39mrandom\u001b[39;00m \u001b[39mimport\u001b[39;00m randint\n\u001b[0;32m      3\u001b[0m r \u001b[39m=\u001b[39m randint(\u001b[39m1\u001b[39m, \u001b[39m100\u001b[39m)\n\u001b[1;32m----> 4\u001b[0m n \u001b[39m=\u001b[39m \u001b[39mint\u001b[39;49m(\u001b[39minput\u001b[39;49m(\u001b[39m\"\u001b[39;49m\u001b[39mENter the number of tries you want\u001b[39;49m\u001b[39m\"\u001b[39;49m))\n\u001b[0;32m      5\u001b[0m count \u001b[39m=\u001b[39m \u001b[39m1\u001b[39m\n\u001b[0;32m      7\u001b[0m \u001b[39mwhile\u001b[39;00m count \u001b[39m<\u001b[39m\u001b[39m=\u001b[39m n:\n",
      "\u001b[1;31mValueError\u001b[0m: invalid literal for int() with base 10: ''"
     ]
    }
   ],
   "source": [
    "from random import randint\n",
    "\n",
    "r = randint(1, 100)\n",
    "n = int(input(\"ENter the number of tries you want\"))\n",
    "count = 1\n",
    "\n",
    "while count <= n:\n",
    "    n = int(input(\"Enter a number: \"))\n",
    "\n",
    "    if n == r:\n",
    "        print(\"Congrats, you won the lottery\")\n",
    "        break\n",
    "    elif n > r:\n",
    "        print(\"The number is lower\")\n",
    "    else:\n",
    "        print(\"The number is higher\")\n",
    "\n",
    "    count += 1\n",
    "    \n",
    "    \n",
    "print(\"The lottery number is {}\".format(r))"
   ]
  },
  {
   "cell_type": "code",
   "execution_count": null,
   "metadata": {},
   "outputs": [],
   "source": []
  }
 ],
 "metadata": {
  "kernelspec": {
   "display_name": "Python 3",
   "language": "python",
   "name": "python3"
  },
  "language_info": {
   "codemirror_mode": {
    "name": "ipython",
    "version": 3
   },
   "file_extension": ".py",
   "mimetype": "text/x-python",
   "name": "python",
   "nbconvert_exporter": "python",
   "pygments_lexer": "ipython3",
   "version": "3.11.3"
  },
  "orig_nbformat": 4
 },
 "nbformat": 4,
 "nbformat_minor": 2
}
